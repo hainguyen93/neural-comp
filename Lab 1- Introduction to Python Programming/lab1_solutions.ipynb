{
 "cells": [
  {
   "cell_type": "markdown",
   "metadata": {},
   "source": [
    "# Neural Computation (Autumn 2019)\n",
    "# Lab 1: Introduction to Python Programming (Solutions)\n"
   ]
  },
  {
   "cell_type": "markdown",
   "metadata": {},
   "source": [
    "### Exercise 1: Both Ends"
   ]
  },
  {
   "cell_type": "markdown",
   "metadata": {},
   "source": [
    "Given a string `s`, return a string made of the first 2 and the last 2 chars of the original string\n",
    "\n",
    "For example, \n",
    "\n",
    "    both_end('spring') should return 'spng'.\n",
    "\n",
    "However, if the string length is less than 2, return the empty string."
   ]
  },
  {
   "cell_type": "code",
   "execution_count": 1,
   "metadata": {},
   "outputs": [],
   "source": [
    "def both_ends(s):\n",
    "    if len(s) < 2:\n",
    "        return ''\n",
    "    first2 = s[0:2]\n",
    "    last2 = s[-2:]\n",
    "    return first2 + last2 "
   ]
  },
  {
   "cell_type": "markdown",
   "metadata": {},
   "source": [
    "### Exercise 2: Fix Start"
   ]
  },
  {
   "cell_type": "markdown",
   "metadata": {},
   "source": [
    "Given a string `s`, return a string where all occurences of its first char have been changes to '*', except do not change the first char itself.\n",
    "\n",
    "For example\n",
    "\n",
    "    fix_start('babble') should return 'ba**le'\n",
    "\n",
    "Assume that the string is length 1 or more. \n",
    "\n",
    "Hints: `s.replace(stra, strb)` returns a version of string `s` where all instances of `stra` have been replaced by `strb`."
   ]
  },
  {
   "cell_type": "code",
   "execution_count": 4,
   "metadata": {},
   "outputs": [],
   "source": [
    "def fix_start(s):\n",
    "    front = s[0]\n",
    "    back = s[1:]\n",
    "    fixed_back = back.replace(front, '*')\n",
    "    return front + fixed_back"
   ]
  },
  {
   "cell_type": "markdown",
   "metadata": {},
   "source": [
    "### Exercise 3: Front X"
   ]
  },
  {
   "cell_type": "markdown",
   "metadata": {},
   "source": [
    "Given a list of strings, return a list with the strings in sorted order, except group all the strings that begin\n",
    "with 'x' first. \n",
    "\n",
    "For examples, \n",
    "\n",
    "    ['mix','xyz','apple','xanadu','aardvark'] yields ['xanadu','xyz','aardvark','apple','mix'].\n",
    "\n",
    "Hint: this can be done by making 2 lists and sorting each of them before combining them."
   ]
  },
  {
   "cell_type": "code",
   "execution_count": 20,
   "metadata": {},
   "outputs": [],
   "source": [
    "def front_x(words):\n",
    "    x_list = []\n",
    "    other_list = []\n",
    "    for w in words:\n",
    "        if w.startswith('x'):\n",
    "            x_list.append(w)\n",
    "        else:\n",
    "            other_list.append(w)\n",
    "    return sorted(x_list) + sorted(other_list)"
   ]
  },
  {
   "cell_type": "markdown",
   "metadata": {},
   "source": [
    "### Exercise 4: Remove Adjacent"
   ]
  },
  {
   "cell_type": "markdown",
   "metadata": {},
   "source": [
    "Given a list of numbers, return a list where all adjacent identical elements have been reduced to a single element.\n",
    "\n",
    "For example,\n",
    "\n",
    "    [1,2,2,3] yields [1,2,3]\n",
    "    [1,1,1,2,3,4,4,5] yields [1,2,3,4,5]\n",
    "    \n",
    "You may create a new list or modify the passed in list."
   ]
  },
  {
   "cell_type": "code",
   "execution_count": 23,
   "metadata": {},
   "outputs": [],
   "source": [
    "def remove_adjacent(nums):\n",
    "    result = []\n",
    "    for num in nums:\n",
    "        if len(result) == 0 or num != result[-1]:\n",
    "            result.append(num)\n",
    "    return result"
   ]
  },
  {
   "cell_type": "markdown",
   "metadata": {},
   "source": [
    "### Exercise 5: Linear Merge"
   ]
  },
  {
   "cell_type": "markdown",
   "metadata": {},
   "source": [
    "Given two lists sorted in increasing order, create and return a merged list of all the elements in sorted order.\n",
    "\n",
    "You may modify the passed in lists."
   ]
  },
  {
   "cell_type": "code",
   "execution_count": 25,
   "metadata": {},
   "outputs": [],
   "source": [
    "def linear_merge(list1, list2):\n",
    "    result = []\n",
    "    \n",
    "    # Look at the two lists so long as both are non-empty.\n",
    "    # Take whichever element [0] is smaller.\n",
    "    while len(list1) and len(list2):\n",
    "        if list1[0] < list2[0]:\n",
    "            result.append(list1.pop(0))\n",
    "        else:\n",
    "          result.append(list2.pop(0))\n",
    "\n",
    "    # Now tack on what's left\n",
    "    result.extend(list1)\n",
    "    result.extend(list2)\n",
    "    return result"
   ]
  }
 ],
 "metadata": {
  "kernelspec": {
   "display_name": "Python 3",
   "language": "python",
   "name": "python3"
  },
  "language_info": {
   "codemirror_mode": {
    "name": "ipython",
    "version": 3
   },
   "file_extension": ".py",
   "mimetype": "text/x-python",
   "name": "python",
   "nbconvert_exporter": "python",
   "pygments_lexer": "ipython3",
   "version": "3.7.3"
  }
 },
 "nbformat": 4,
 "nbformat_minor": 4
}
