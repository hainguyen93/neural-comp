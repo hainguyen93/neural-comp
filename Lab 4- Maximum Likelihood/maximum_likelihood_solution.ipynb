{
 "cells": [
  {
   "cell_type": "markdown",
   "metadata": {},
   "source": [
    "# Neural Computation (Autumn 2019)\n",
    "# Lab 4: Maximum Likelihood\n",
    "In this tutorial, we will try to make you further understand:\n",
    "\n",
    "* Probability density/mass functions\n",
    "* Joint probability density/mass functions\n",
    "* Log-likelihood functions\n",
    "* Maximum likelihood estimation for different distributions, such as\n",
    "* Bernoulli distribution \n",
    "* Univariate Gaussian distribution\n",
    "\n",
    "First, you need to download a `PDF` file called *`maximum_likelihood.pdf`* from canvas, where we have toilored three exercises for this tutorial. Note that for each exercise in the `PDF` you are given a few sub questions to answer. These sub questions were used to break down the original problem into different pieces, each of which is relatively easy to derive an answer. After you have the answers of these exercises ready, you need to come back to this notebook to finish the following two exercises (unlike the `PDF` Exercise 3 here is different). \n",
    "\n",
    "In each following exercise, we have randamly sampled three datasets, i.e., Dataset 1, 2 and 3, respectively having 10, 100 and 100000 obervations. For Exercise 1, each observation $x^{(i)}$, $\\forall i\\in \\{1,...,n\\}$ where the sample size $n=10$, $100$ or $100000$, is an independent sample from a Bernoulli distribution with the *success probability* $q \\in [0,1]$. For Exercise 2, each observation $x^{(i)}$ is independent and was sampled from a normal distribution $\\cal N (\\mu, \\sigma^2)$. We note that for both excerises we used the same model parameters ($q$ or $(\\mu, \\sigma^2)$) for all three datasets. \n",
    "\n",
    "\n",
    "In Exercise 1, you are asked to code to estimate the maximum likelihood for $q$ for each dataset. \n",
    "\n",
    "In Exercise 2, you are asked to code to estimate the maximum likelihood for $(\\mu, \\sigma^2)$ for each dataset. \n",
    "\n",
    "Note that you will need to use your derviations from Excerise 1 and 2 in the `PDF` file to guide you to do the exceries in this notebook. \n",
    "\n"
   ]
  },
  {
   "cell_type": "markdown",
   "metadata": {},
   "source": [
    "## Exercise 1: Bernoulli Distribution"
   ]
  },
  {
   "cell_type": "markdown",
   "metadata": {},
   "source": [
    "### Reading data from a CSV file\n",
    "\n",
    "We first read the cat data set from a local comma separated value (CSV) file, and store the body and heart weights in two arrays. "
   ]
  },
  {
   "cell_type": "markdown",
   "metadata": {},
   "source": [
    "We will use the [genfromtxt](https://docs.scipy.org/doc/numpy-1.13.0/reference/generated/numpy.genfromtxt.html) function in NumPy to read the data set from a CSV file located at some URL.\n",
    "\n",
    "    np.genfromtxt(url, delimiter=None, skip_header=0, usecols=None) \n",
    "\n",
    "This function takes several arguments, including: \n",
    "\n",
    "* `url`: a string that specifies a file name or an URL for the CSV file, \n",
    "* `delimiter`: a string used to separate value, \n",
    "* `skip_header`: an int indicates the number of lines to skip at the beginning of the file,  \n",
    "* `usecols`: a sequence indicating which columns to read, with 0 as first column. \n",
    "            \n",
    "We can read data from the file and store them into a variable such as `B10` using the following line. Each variable is a 1-dimensional NumPy arrary. "
   ]
  },
  {
   "cell_type": "markdown",
   "metadata": {},
   "source": [
    "You first need to import the numpy package to load the dataset as well as to do matrix calculation to derive statistics "
   ]
  },
  {
   "cell_type": "code",
   "execution_count": 1,
   "metadata": {},
   "outputs": [],
   "source": [
    "import numpy as np"
   ]
  },
  {
   "cell_type": "code",
   "execution_count": 2,
   "metadata": {},
   "outputs": [],
   "source": [
    "url = \"http://www.cs.bham.ac.uk/~duanj/log/Bernoulli_Distrbution/Bernoulli_10.csv\"\n",
    "B10 = np.genfromtxt(url, delimiter=\",\", skip_header=0, usecols=(0))"
   ]
  },
  {
   "cell_type": "markdown",
   "metadata": {},
   "source": [
    "Above B10 is a dataset with 10 observations and was randamly sampled a Bernoulli distribution with the *success probability* $q$. Write your answer below to compute the maximum likelihood for $q$"
   ]
  },
  {
   "cell_type": "code",
   "execution_count": 3,
   "metadata": {},
   "outputs": [
    {
     "name": "stdout",
     "output_type": "stream",
     "text": [
      "0.7\n"
     ]
    }
   ],
   "source": [
    "q = np.mean(B10)\n",
    "\n",
    "print(q)"
   ]
  },
  {
   "cell_type": "code",
   "execution_count": 4,
   "metadata": {},
   "outputs": [],
   "source": [
    "url = \"http://www.cs.bham.ac.uk/~duanj/log/Bernoulli_Distrbution/Bernoulli_100.csv\"\n",
    "B100 = np.genfromtxt(url, delimiter=\",\", skip_header=0, usecols=(0))"
   ]
  },
  {
   "cell_type": "markdown",
   "metadata": {},
   "source": [
    "Above B100 is a dataset with 100 observations and was randamly sampled a Bernoulli distribution with the *success probability* $q$. Write your answer below to compute the maximum likelihood for $q$"
   ]
  },
  {
   "cell_type": "code",
   "execution_count": 5,
   "metadata": {},
   "outputs": [
    {
     "name": "stdout",
     "output_type": "stream",
     "text": [
      "0.49\n"
     ]
    }
   ],
   "source": [
    "q = np.mean(B100)\n",
    "\n",
    "print(q)"
   ]
  },
  {
   "cell_type": "code",
   "execution_count": 6,
   "metadata": {},
   "outputs": [],
   "source": [
    "url = \"http://www.cs.bham.ac.uk/~duanj/log/Bernoulli_Distrbution/Bernoulli_100000.csv\"\n",
    "B100000 = np.genfromtxt(url, delimiter=\",\", skip_header=0, usecols=(0))"
   ]
  },
  {
   "cell_type": "markdown",
   "metadata": {},
   "source": [
    "Above B100000 is a dataset with 100000 observations and was randamly sampled a Bernoulli distribution with the *success probability* $q$. Write your answer below to compute the maximum likelihood for $q$"
   ]
  },
  {
   "cell_type": "code",
   "execution_count": 7,
   "metadata": {},
   "outputs": [
    {
     "name": "stdout",
     "output_type": "stream",
     "text": [
      "0.49945\n"
     ]
    }
   ],
   "source": [
    "q = np.mean(B100000)\n",
    "\n",
    "print(q)"
   ]
  },
  {
   "cell_type": "markdown",
   "metadata": {},
   "source": [
    "### Question: from above calcuations what kind of rules have you found ? \n",
    "Answer: \n",
    "* The three distributions above were randomly generated by using a Bernoulli distribution with *success probability* $q = 0.5$ \n",
    "\n",
    "* From the solution of Exercise 1, it is clear that the *success probability* is the mean value of all the observations. However, due to sample size, the mean value is not strictly 0.5 for each case. You should be noting that as simple goes to infinity, we are able to get the mean value of 0.5."
   ]
  },
  {
   "cell_type": "markdown",
   "metadata": {},
   "source": [
    "## Exercise 2: Univariate Gaussian Distribution"
   ]
  },
  {
   "cell_type": "code",
   "execution_count": 8,
   "metadata": {},
   "outputs": [],
   "source": [
    "url = \"http://www.cs.bham.ac.uk/~duanj/log/Gaussian_Distrbution/Gaussian_10.csv\"\n",
    "G10 = np.genfromtxt(url, delimiter=\",\", skip_header=0, usecols=(0))"
   ]
  },
  {
   "cell_type": "markdown",
   "metadata": {},
   "source": [
    "G10 is a dataset with 10 observations and was randamly sampled a normal distribution with $(\\mu, \\sigma^2)$. Write your answers below to compute the maximum likelihoods for $(\\mu, \\sigma^2)$, respectively."
   ]
  },
  {
   "cell_type": "code",
   "execution_count": 9,
   "metadata": {},
   "outputs": [
    {
     "name": "stdout",
     "output_type": "stream",
     "text": [
      "1.7359903060390747\n",
      "7.946229149386781\n"
     ]
    }
   ],
   "source": [
    "mu = np.mean(G10)\n",
    "sigma_square = np.var(G10)\n",
    "\n",
    "print(mu)\n",
    "print(sigma_square)"
   ]
  },
  {
   "cell_type": "code",
   "execution_count": 10,
   "metadata": {},
   "outputs": [],
   "source": [
    "url = \"http://www.cs.bham.ac.uk/~duanj/log/Gaussian_Distrbution/Gaussian_100.csv\"\n",
    "G100 = np.genfromtxt(url, delimiter=\",\", skip_header=0, usecols=(0))"
   ]
  },
  {
   "cell_type": "markdown",
   "metadata": {},
   "source": [
    "G100 is a dataset with 100 observations and was randamly sampled a normal distribution with $(\\mu, \\sigma^2)$. Write your answers below to compute the maximum likelihoods for $(\\mu, \\sigma^2)$, respectively."
   ]
  },
  {
   "cell_type": "code",
   "execution_count": 11,
   "metadata": {},
   "outputs": [
    {
     "name": "stdout",
     "output_type": "stream",
     "text": [
      "1.9096529632848913\n",
      "16.471460626535436\n"
     ]
    }
   ],
   "source": [
    "mu = np.mean(G100)\n",
    "sigma_square = np.var(G100)\n",
    "\n",
    "print(mu)\n",
    "print(sigma_square)"
   ]
  },
  {
   "cell_type": "code",
   "execution_count": 12,
   "metadata": {},
   "outputs": [],
   "source": [
    "url = \"http://www.cs.bham.ac.uk/~duanj/log/Gaussian_Distrbution/Gaussian_100000.csv\"\n",
    "G100000 = np.genfromtxt(url, delimiter=\",\", skip_header=0, usecols=(0))"
   ]
  },
  {
   "cell_type": "markdown",
   "metadata": {},
   "source": [
    "G100000 is a dataset with 100000 observations and was randamly sampled a normal distribution with $(\\mu, \\sigma^2)$. Write your answers below to compute the maximum likelihoods for $(\\mu, \\sigma^2)$, respectively."
   ]
  },
  {
   "cell_type": "code",
   "execution_count": 13,
   "metadata": {},
   "outputs": [
    {
     "name": "stdout",
     "output_type": "stream",
     "text": [
      "2.02020308037172\n",
      "15.958237670611767\n"
     ]
    }
   ],
   "source": [
    "mu = np.mean(G100000)\n",
    "sigma_square = np.var(G100000)\n",
    "\n",
    "print(mu)\n",
    "print(sigma_square)"
   ]
  },
  {
   "cell_type": "markdown",
   "metadata": {},
   "source": [
    "### Question: from above calcuations what have you found ? \n",
    "Answer:\n",
    "\n",
    "* The three distributions above were randomly generated by using a normal distribution with mean being 2 and variance being 16 \n",
    "\n",
    "* From the solution of Exercise 2, it is clear that $\\mu$ is the mean value of all the observations and $\\sigma^2$ is the variance of all the observations. When simple size is samll, the error is big."
   ]
  },
  {
   "cell_type": "markdown",
   "metadata": {},
   "source": [
    "## Exercise 3: Sample a normal Distribution"
   ]
  },
  {
   "cell_type": "markdown",
   "metadata": {},
   "source": [
    "Write down your code below to sample a Bernoulli distrbution with the success probability being 0.1 and a normal distribution with mean being 4 and standard derviation being 8. For each sampling, please show the impact of using different sample sizes, i.e., $n=10$, $100$ and $100000$.  "
   ]
  },
  {
   "cell_type": "code",
   "execution_count": 24,
   "metadata": {},
   "outputs": [
    {
     "name": "stdout",
     "output_type": "stream",
     "text": [
      "for sample size 10, success probability is 0.2\n",
      "for sample size 10, mean value is 7.534972740963477\n",
      "for sample size 10, standard derviation is 10.478962857613027\n",
      "for sample size 100, success probability is 0.08\n",
      "for sample size 100, mean value is 4.16092428792685\n",
      "for sample size 100, standard derviation is 8.219913120105595\n",
      "for sample size 100000, success probability is 0.10083\n",
      "for sample size 100000, mean value is 4.003400300552964\n",
      "for sample size 100000, standard derviation is 7.99121374012887\n"
     ]
    }
   ],
   "source": [
    "sample_size = [10, 100, 100000]\n",
    "success_prob = 0.1 \n",
    "mean = 4 \n",
    "std = 8\n",
    "for s in sample_size:\n",
    "    BD = np.random.binomial(success_prob, 0.1, size=s)\n",
    "    ND = np.random.normal(mean, std, size=s)\n",
    "    print('for sample size {} of Bernoulli distrbution, success probability is {}'.format(s, BD.mean()))\n",
    "    print('for sample size {} of normal distr, mean value is {}'.format(s, ND.mean()))\n",
    "    print('for sample size {}, standard derviation is {}'.format(s, ND.std()))\n",
    "    "
   ]
  },
  {
   "cell_type": "code",
   "execution_count": null,
   "metadata": {},
   "outputs": [],
   "source": []
  }
 ],
 "metadata": {
  "kernelspec": {
   "display_name": "Python 3",
   "language": "python",
   "name": "python3"
  },
  "language_info": {
   "codemirror_mode": {
    "name": "ipython",
    "version": 3
   },
   "file_extension": ".py",
   "mimetype": "text/x-python",
   "name": "python",
   "nbconvert_exporter": "python",
   "pygments_lexer": "ipython3",
   "version": "3.7.1"
  }
 },
 "nbformat": 4,
 "nbformat_minor": 2
}
